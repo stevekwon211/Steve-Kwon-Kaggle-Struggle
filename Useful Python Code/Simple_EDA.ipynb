{
  "nbformat": 4,
  "nbformat_minor": 0,
  "metadata": {
    "colab": {
      "name": "Simple EDA",
      "provenance": [],
      "collapsed_sections": []
    },
    "kernelspec": {
      "name": "python3",
      "display_name": "Python 3"
    }
  },
  "cells": [
    {
      "cell_type": "code",
      "metadata": {
        "id": "kk1l97PRMWxQ"
      },
      "source": [
        "#@title Simple EDA Function\r\n",
        "def simple_eda(df):\r\n",
        "    \r\n",
        "    \"\"\"\r\n",
        "    This function helps us with simple data analysis.\r\n",
        "    We may explore the common information about the dataset, missing values, features distribution and duplicated rows\r\n",
        "    \"\"\"\r\n",
        "    \r\n",
        "    # applying info() method\r\n",
        "    print('---')\r\n",
        "    print('Common information')\r\n",
        "    print('---')\r\n",
        "    print()\r\n",
        "    print(df.info())\r\n",
        "    \r\n",
        "    # missing values\r\n",
        "    print()\r\n",
        "    print('---')\r\n",
        "    if df.isna().sum().sum() == 0:\r\n",
        "        print('There are no missing values')\r\n",
        "        print('---')\r\n",
        "    else:\r\n",
        "        print('Detected')\r\n",
        "        display(df.isna().sum())\r\n",
        "    \r\n",
        "    \r\n",
        "    # applying describe() method for categorical features\r\n",
        "    print()\r\n",
        "    print('---')\r\n",
        "    print('Categorical columns')\r\n",
        "    print('Total {}'.format(len(df.select_dtypes(include='object').columns)))\r\n",
        "    print('---')\r\n",
        "    display(df.describe(include = 'object'))\r\n",
        "    \r\n",
        "    # same describe() but for continious features\r\n",
        "    print('---')\r\n",
        "    print('Continuous columns')\r\n",
        "    print('Total {}'.format(len(df.select_dtypes(include=['int', 'float']).columns)))\r\n",
        "    print('---')\r\n",
        "    display(df.describe())\r\n",
        "    \r\n",
        "    #checking for duplicated rows\r\n",
        "    if df.duplicated().sum() == 0:\r\n",
        "        print('---')\r\n",
        "        print('There are no duplicates')\r\n",
        "        print('---')\r\n",
        "    else:\r\n",
        "        print('---')\r\n",
        "        print('Duplicates found')\r\n",
        "        print('---')\r\n",
        "        display(df[df.duplicated()])\r\n",
        "    \r\n",
        "    print()\r\n",
        "    print('---')\r\n",
        "    print('End of the report')"
      ],
      "execution_count": null,
      "outputs": []
    }
  ]
}